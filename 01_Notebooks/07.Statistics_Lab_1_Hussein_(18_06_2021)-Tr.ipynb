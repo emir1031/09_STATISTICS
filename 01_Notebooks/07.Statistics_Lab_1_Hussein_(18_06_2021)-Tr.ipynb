{
 "cells": [
  {
   "cell_type": "code",
   "execution_count": 2,
   "id": "ambient-colleague",
   "metadata": {},
   "outputs": [],
   "source": [
    "x = [1,2,3,4,5]\n",
    "\n",
    "# bunun ortalamasını nasıl hesaplarım?"
   ]
  },
  {
   "cell_type": "code",
   "execution_count": 1,
   "id": "incomplete-episode",
   "metadata": {},
   "outputs": [],
   "source": [
    "import numpy as np"
   ]
  },
  {
   "cell_type": "code",
   "execution_count": 3,
   "id": "massive-clinton",
   "metadata": {},
   "outputs": [
    {
     "data": {
      "text/plain": [
       "3.0"
      ]
     },
     "execution_count": 3,
     "metadata": {},
     "output_type": "execute_result"
    }
   ],
   "source": [
    "np.mean(x)\n",
    "\n",
    "# mean'in içine listemi koyduğumda bana ortalamasını veriyor."
   ]
  },
  {
   "cell_type": "code",
   "execution_count": 4,
   "id": "organized-cradle",
   "metadata": {
    "scrolled": true
   },
   "outputs": [
    {
     "data": {
      "text/plain": [
       "3.0"
      ]
     },
     "execution_count": 4,
     "metadata": {},
     "output_type": "execute_result"
    }
   ],
   "source": [
    "np.median(x)\n",
    "\n",
    "# orta noktasını verir"
   ]
  },
  {
   "cell_type": "code",
   "execution_count": 5,
   "id": "sufficient-vector",
   "metadata": {},
   "outputs": [],
   "source": [
    "import scipy.stats as stats\n",
    "\n",
    "# from scipy import stats şeklinde de yazılabilir"
   ]
  },
  {
   "cell_type": "code",
   "execution_count": 12,
   "id": "intellectual-spanking",
   "metadata": {},
   "outputs": [
    {
     "data": {
      "text/plain": [
       "ModeResult(mode=array([3]), count=array([4]))"
      ]
     },
     "execution_count": 12,
     "metadata": {},
     "output_type": "execute_result"
    }
   ],
   "source": [
    "stats.mode([1,1,2,2,2,3,3,3,3,4,4,4,5,5])\n",
    "\n",
    "# mode değerim yani en çok tekrarlanan değerim 3, tekrar sayısı 4"
   ]
  },
  {
   "cell_type": "code",
   "execution_count": 11,
   "id": "patent-recall",
   "metadata": {},
   "outputs": [
    {
     "data": {
      "text/plain": [
       "0.0"
      ]
     },
     "execution_count": 11,
     "metadata": {},
     "output_type": "execute_result"
    }
   ],
   "source": [
    "stats.skew([1,1,2,2,2,3,3,3,3,4,4,4,5,5])\n",
    "\n",
    "# uniform bir paterni olduğu için (ne sağa ne sola skewed) skewed sonucu sıfır olacaktır."
   ]
  },
  {
   "cell_type": "code",
   "execution_count": 17,
   "id": "supported-truck",
   "metadata": {},
   "outputs": [],
   "source": [
    "y = [1,2,2,2,3,3,3,3,4,4,4,4,4,5,5,5,5,5,5]"
   ]
  },
  {
   "cell_type": "code",
   "execution_count": 18,
   "id": "balanced-bradley",
   "metadata": {},
   "outputs": [
    {
     "data": {
      "text/plain": [
       "-0.4786242382164972"
      ]
     },
     "execution_count": 18,
     "metadata": {},
     "output_type": "execute_result"
    }
   ],
   "source": [
    "stats.skew(y)\n",
    "\n",
    "# küçük rakamlara doğru dağılım olduğu (küçük rakamlardan daha az sayıda var) için negative skewed."
   ]
  },
  {
   "cell_type": "code",
   "execution_count": 19,
   "id": "interior-prison",
   "metadata": {},
   "outputs": [
    {
     "data": {
      "text/plain": [
       "3.6315789473684212"
      ]
     },
     "execution_count": 19,
     "metadata": {},
     "output_type": "execute_result"
    }
   ],
   "source": [
    "np.mean(y)"
   ]
  },
  {
   "cell_type": "code",
   "execution_count": 20,
   "id": "brave-senegal",
   "metadata": {},
   "outputs": [
    {
     "data": {
      "text/plain": [
       "4.0"
      ]
     },
     "execution_count": 20,
     "metadata": {},
     "output_type": "execute_result"
    }
   ],
   "source": [
    "np.median(y)"
   ]
  },
  {
   "cell_type": "code",
   "execution_count": 21,
   "id": "median-oxide",
   "metadata": {},
   "outputs": [
    {
     "data": {
      "text/plain": [
       "-0.8598353909465013"
      ]
     },
     "execution_count": 21,
     "metadata": {},
     "output_type": "execute_result"
    }
   ],
   "source": [
    "stats.kurtosis(y)\n",
    "\n",
    "# kurtosis: basıklık.. negative çıkması, normal dağılıma doğru daha basık olduğunu söylüyor.\n",
    "# + olsaydı daha dik olacaktı."
   ]
  },
  {
   "cell_type": "code",
   "execution_count": 23,
   "id": "attended-inside",
   "metadata": {},
   "outputs": [],
   "source": [
    "age = [20, 22, 25, 25, 27, 27, 27, 29, 30, 31]"
   ]
  },
  {
   "cell_type": "code",
   "execution_count": 24,
   "id": "elect-volunteer",
   "metadata": {},
   "outputs": [
    {
     "data": {
      "text/plain": [
       "10.610000000000001"
      ]
     },
     "execution_count": 24,
     "metadata": {},
     "output_type": "execute_result"
    }
   ],
   "source": [
    "np.var(age)\n",
    "\n",
    "# var : varyans\n",
    "\"\"\"\n",
    "Returns the variance of the array elements, a measure of the spread of a\n",
    "distribution.  The variance is computed for the flattened array by\n",
    "default, otherwise over the specified axis.\n",
    "\"\"\""
   ]
  },
  {
   "cell_type": "code",
   "execution_count": 25,
   "id": "insured-neighborhood",
   "metadata": {
    "scrolled": true
   },
   "outputs": [
    {
     "data": {
      "text/plain": [
       "3.2572994949804666"
      ]
     },
     "execution_count": 25,
     "metadata": {},
     "output_type": "execute_result"
    }
   ],
   "source": [
    "np.std(age)\n",
    "\n",
    "\"\"\"\n",
    "Returns the standard deviation, a measure of the spread of a distribution,\n",
    "of the array elements. The standard deviation is computed for the\n",
    "flattened array by default, otherwise over the specified axis.\n",
    "\"\"\""
   ]
  },
  {
   "cell_type": "code",
   "execution_count": 26,
   "id": "julian-associate",
   "metadata": {},
   "outputs": [],
   "source": [
    "import math"
   ]
  },
  {
   "cell_type": "code",
   "execution_count": 27,
   "id": "conventional-speaking",
   "metadata": {},
   "outputs": [
    {
     "data": {
      "text/plain": [
       "3.2572994949804666"
      ]
     },
     "execution_count": 27,
     "metadata": {},
     "output_type": "execute_result"
    }
   ],
   "source": [
    "math.sqrt(np.var(age))\n",
    "\n",
    "# varyansın karekökünün standart sapma olduğunu karekök alarak gördük."
   ]
  },
  {
   "cell_type": "code",
   "execution_count": 29,
   "id": "inappropriate-session",
   "metadata": {},
   "outputs": [
    {
     "data": {
      "text/plain": [
       "27.0"
      ]
     },
     "execution_count": 29,
     "metadata": {},
     "output_type": "execute_result"
    }
   ],
   "source": [
    "np.percentile(age, 50)\n",
    "\n",
    "# ikinci parametre yüz üzerinden bir rakamdır. burada yüzde 50. noktasını veriyor. \n",
    "# yani quartile yaklaşıma göre Q2 (median) demektir. "
   ]
  },
  {
   "cell_type": "code",
   "execution_count": 32,
   "id": "danish-wilson",
   "metadata": {},
   "outputs": [],
   "source": [
    "q1 = np.percentile(age, 25)\n",
    "\n",
    "# 25 dersem bu quartile a göre Q1 e denk gelir."
   ]
  },
  {
   "cell_type": "code",
   "execution_count": 33,
   "id": "incorrect-dimension",
   "metadata": {},
   "outputs": [],
   "source": [
    "q3 = np.percentile(age, 75)\n",
    "\n",
    "# Q3 demektir. yüzde 75lik kısım en başta, yüzde 25 lik kısım sonda kalıyor."
   ]
  },
  {
   "cell_type": "code",
   "execution_count": 35,
   "id": "awful-jacket",
   "metadata": {},
   "outputs": [
    {
     "data": {
      "text/plain": [
       "3.5"
      ]
     },
     "execution_count": 35,
     "metadata": {},
     "output_type": "execute_result"
    }
   ],
   "source": [
    "iqr = q3 - q1\n",
    "iqr"
   ]
  },
  {
   "cell_type": "markdown",
   "id": "boolean-irish",
   "metadata": {},
   "source": [
    "# Popülasyon and Sample"
   ]
  },
  {
   "cell_type": "code",
   "execution_count": null,
   "id": "sought-civilization",
   "metadata": {},
   "outputs": [],
   "source": [
    "# bu konuya bir sonraki lab da girilecek"
   ]
  },
  {
   "cell_type": "code",
   "execution_count": null,
   "id": "complimentary-recycling",
   "metadata": {},
   "outputs": [],
   "source": []
  },
  {
   "cell_type": "code",
   "execution_count": null,
   "id": "outer-toilet",
   "metadata": {},
   "outputs": [],
   "source": []
  },
  {
   "cell_type": "code",
   "execution_count": null,
   "id": "illegal-insured",
   "metadata": {},
   "outputs": [],
   "source": []
  },
  {
   "cell_type": "code",
   "execution_count": null,
   "id": "analyzed-yukon",
   "metadata": {},
   "outputs": [],
   "source": []
  },
  {
   "cell_type": "code",
   "execution_count": null,
   "id": "descending-treatment",
   "metadata": {},
   "outputs": [],
   "source": []
  },
  {
   "cell_type": "code",
   "execution_count": null,
   "id": "changed-shakespeare",
   "metadata": {},
   "outputs": [],
   "source": []
  },
  {
   "cell_type": "code",
   "execution_count": null,
   "id": "basic-accreditation",
   "metadata": {},
   "outputs": [],
   "source": []
  }
 ],
 "metadata": {
  "kernelspec": {
   "display_name": "Python 3",
   "language": "python",
   "name": "python3"
  },
  "language_info": {
   "codemirror_mode": {
    "name": "ipython",
    "version": 3
   },
   "file_extension": ".py",
   "mimetype": "text/x-python",
   "name": "python",
   "nbconvert_exporter": "python",
   "pygments_lexer": "ipython3",
   "version": "3.7.8"
  }
 },
 "nbformat": 4,
 "nbformat_minor": 5
}
